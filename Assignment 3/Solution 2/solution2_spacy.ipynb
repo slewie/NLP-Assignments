{
 "cells": [
  {
   "cell_type": "code",
   "execution_count": 78,
   "metadata": {},
   "outputs": [],
   "source": [
    "import json\n",
    "from tqdm import tqdm\n",
    "import random\n",
    "from spacy.training import Example\n",
    "import ru_core_news_lg\n",
    "from datasets import load_dataset\n",
    "import warnings\n",
    "warnings.filterwarnings(\"ignore\")"
   ]
  },
  {
   "cell_type": "code",
   "execution_count": 79,
   "metadata": {},
   "outputs": [],
   "source": [
    "def read_data(path: str) -> list[dict]:\n",
    "    data_array = []\n",
    "    with open(path, 'r') as file:\n",
    "        for line in file:\n",
    "            data = json.loads(line)\n",
    "            data_array.append(data)\n",
    "    return data_array"
   ]
  },
  {
   "cell_type": "code",
   "execution_count": 80,
   "metadata": {},
   "outputs": [],
   "source": [
    "train = read_data('train.jsonl')\n",
    "test = read_data('test.jsonl')\n",
    "dataset_codalab = {'train': train, 'test': test}"
   ]
  },
  {
   "cell_type": "code",
   "execution_count": 81,
   "metadata": {},
   "outputs": [],
   "source": [
    "dataset_hf = load_dataset(\"iluvvatar/RuNNE\")"
   ]
  },
  {
   "cell_type": "markdown",
   "metadata": {},
   "source": [
    "## Create train dataset"
   ]
  },
  {
   "cell_type": "code",
   "execution_count": 83,
   "metadata": {},
   "outputs": [],
   "source": [
    "train_data = [entry for entry in dataset_codalab['train']]"
   ]
  },
  {
   "cell_type": "code",
   "execution_count": 84,
   "metadata": {},
   "outputs": [],
   "source": [
    "def compare_and_take(source_dataset, target_dataset=dataset_codalab['test']) -> list[dict]:\n",
    "    \"\"\"\n",
    "    Compares two datasets and returns a list of samples which is not lies in test_data\n",
    "    Parameters:\n",
    "        - source_dataset (list): A list that can contain samples from test dataset\n",
    "        - target_dataset (list): A test dataset\n",
    "    Returns:\n",
    "        - output (list): A list of dictionaries containing sentences and named entities that are not similar between the two datasets.\n",
    "    \"\"\"\n",
    "    output = []\n",
    "\n",
    "    for source in source_dataset:\n",
    "        flag = True\n",
    "        for target in target_dataset:\n",
    "            source_sentence = source['text']\n",
    "            target_sentence = target['senences']\n",
    "            if len(source_sentence) == len(target_sentence):\n",
    "                same_chars = sum([source_char == target_char for source_char, target_char in zip(source_sentence, target_sentence)])\n",
    "                \n",
    "                if same_chars / len(source_sentence) > 0.5:\n",
    "                    flag = False\n",
    "                    break\n",
    "        if flag:\n",
    "            ners = []\n",
    "            \n",
    "            for ner in  source['entities']:\n",
    "                start, end, cls = ner.split()\n",
    "                ners.append([int(start), int(end) - 1, cls])\n",
    "            output.append({'sentences': source_sentence, 'ners': ners})\n",
    "    return output"
   ]
  },
  {
   "cell_type": "code",
   "execution_count": 85,
   "metadata": {},
   "outputs": [],
   "source": [
    "train_data += compare_and_take(dataset_hf['test'])\n",
    "train_data += compare_and_take(dataset_hf['train'])"
   ]
  },
  {
   "cell_type": "code",
   "execution_count": 86,
   "metadata": {},
   "outputs": [],
   "source": [
    "unique_classes = set(entity[-1] for entry in dataset_codalab['train'] for entity in entry['ners'])"
   ]
  },
  {
   "cell_type": "code",
   "execution_count": 94,
   "metadata": {},
   "outputs": [],
   "source": [
    "def prepare_data(data):\n",
    "    \"\"\"Prepares data for NER model training.\n",
    "    Parameters:\n",
    "        - data (list): List of dictionaries containing 'sentences' and 'ners' keys.\n",
    "    Returns:\n",
    "        - prepared_data (list): List of tuples containing text and entities dictionary that ready for spacy.\n",
    "    \"\"\"\n",
    "    prepared_data = []\n",
    "    for entry in data:\n",
    "        text = entry['sentences']\n",
    "        ners = entry['ners']\n",
    "        entities = [(ner[0], ner[1] + 1, ner[2]) for ner in ners]\n",
    "        prepared_data.append((text, {\"entities\": entities}))\n",
    "    return prepared_data"
   ]
  },
  {
   "cell_type": "code",
   "execution_count": 95,
   "metadata": {},
   "outputs": [],
   "source": [
    "def remove_nested_entities(prepared_data):\n",
    "    \"\"\"\"Removes nested entities from prepared data.\"\n",
    "    Parameters:\n",
    "        - prepared_data (list): List of tuples containing text and entities.\n",
    "    Returns:\n",
    "        - list: List of tuples with nested entities removed.\n",
    "    Processing Logic:\n",
    "        - Loop through prepared_data.\n",
    "        - Create a set to store entity spans.\n",
    "        - Create a new list to store non-overlapping entities.\n",
    "        - Check if entity index is already in set.\n",
    "        - If not, add entity to new list and add span to set.\n",
    "        - Update entities with new list of non-overlapping entities.\"\"\"\n",
    "    for _, entities in prepared_data:\n",
    "        span = set()\n",
    "        new_entities = []\n",
    "        for entity in entities['entities']:\n",
    "            if not any(index in span for index in range(entity[0], entity[1])):\n",
    "                new_entities.append(entity)\n",
    "                for index in range(entity[0], entity[1]):\n",
    "                    span.add(index)\n",
    "        entities['entities'] = new_entities"
   ]
  },
  {
   "cell_type": "code",
   "execution_count": 96,
   "metadata": {},
   "outputs": [],
   "source": [
    "prepared_data = prepare_data(train_data)\n",
    "remove_nested_entities(prepared_data)"
   ]
  },
  {
   "cell_type": "markdown",
   "metadata": {},
   "source": [
    "## Train model"
   ]
  },
  {
   "cell_type": "code",
   "execution_count": 92,
   "metadata": {},
   "outputs": [],
   "source": [
    "nlp = ru_core_news_lg.load()\n",
    "optimizer = nlp.initialize()"
   ]
  },
  {
   "cell_type": "code",
   "execution_count": 108,
   "metadata": {},
   "outputs": [
    {
     "name": "stderr",
     "output_type": "stream",
     "text": [
      "                                                             \r"
     ]
    }
   ],
   "source": [
    "for epoch in range(40):\n",
    "    for i, (raw_text, entity_offsets) in enumerate(tqdm(prepared_data, desc=f'Epoch {epoch}', leave=False)):\n",
    "        doc = nlp.make_doc(raw_text)\n",
    "        example = Example.from_dict(doc, entity_offsets)\n",
    "        nlp.update([example], sgd=optimizer)"
   ]
  },
  {
   "cell_type": "markdown",
   "metadata": {},
   "source": [
    "## Testing"
   ]
  },
  {
   "cell_type": "code",
   "execution_count": 116,
   "metadata": {},
   "outputs": [
    {
     "name": "stderr",
     "output_type": "stream",
     "text": [
      "Evaluating: 100%|██████████| 65/65 [00:06<00:00,  9.77it/s]\n"
     ]
    }
   ],
   "source": [
    "answer = []\n",
    "for entry in tqdm(dataset_codalab['test'], desc='Evaluating'):\n",
    "    doc = nlp(entry['senences'])\n",
    "    ners = [[ent.start_char, ent.end_char - 1, ent.label_] for ent in doc.ents if ent.label_ in unique_classes]\n",
    "    answer.append({'ners': ners, 'id': entry['id']})"
   ]
  },
  {
   "cell_type": "code",
   "execution_count": 117,
   "metadata": {},
   "outputs": [],
   "source": [
    "with open('output_data/test.jsonl', 'w') as outfile:\n",
    "    for entry in answer:\n",
    "        json.dump(entry, outfile)\n",
    "        outfile.write('\\n')"
   ]
  },
  {
   "cell_type": "code",
   "execution_count": null,
   "metadata": {},
   "outputs": [],
   "source": []
  }
 ],
 "metadata": {
  "kernelspec": {
   "display_name": "bot_env",
   "language": "python",
   "name": "bot_env"
  },
  "language_info": {
   "codemirror_mode": {
    "name": "ipython",
    "version": 3
   },
   "file_extension": ".py",
   "mimetype": "text/x-python",
   "name": "python",
   "nbconvert_exporter": "python",
   "pygments_lexer": "ipython3",
   "version": "3.10.12"
  }
 },
 "nbformat": 4,
 "nbformat_minor": 2
}
