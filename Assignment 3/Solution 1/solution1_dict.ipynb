{
 "cells": [
  {
   "cell_type": "markdown",
   "metadata": {},
   "source": [
    "# Solution 1\n",
    "\n",
    "In this solution I will use dict approach, so I will go through all data and assign for each named entity ans store it class. To enhance my solution, I will take dataset from huggingface, because it contains more samples than files from coda lab. Also, I should remove all sentences from codalab test data, because I don't want to fit my model on test data"
   ]
  },
  {
   "cell_type": "code",
   "execution_count": 158,
   "metadata": {},
   "outputs": [],
   "source": [
    "import json\n",
    "from datasets import load_dataset\n",
    "import re"
   ]
  },
  {
   "cell_type": "code",
   "execution_count": 82,
   "metadata": {},
   "outputs": [],
   "source": [
    "def read_data(path: str) -> list[dict]:\n",
    "    data_array = []\n",
    "    with open(path, 'r') as file:\n",
    "        for line in file:\n",
    "            data = json.loads(line)\n",
    "            data_array.append(data)\n",
    "    return data_array"
   ]
  },
  {
   "cell_type": "code",
   "execution_count": 83,
   "metadata": {},
   "outputs": [],
   "source": [
    "train = read_data('train.jsonl')\n",
    "test = read_data('test.jsonl')\n",
    "dataset_codalab = {'train': train, 'test': test}"
   ]
  },
  {
   "cell_type": "code",
   "execution_count": 84,
   "metadata": {},
   "outputs": [
    {
     "name": "stderr",
     "output_type": "stream",
     "text": [
      "/home/bot_env/lib/python3.10/site-packages/datasets/load.py:1461: FutureWarning: The repository for iluvvatar/RuNNE contains custom code which must be executed to correctly load the dataset. You can inspect the repository content at https://hf.co/datasets/iluvvatar/RuNNE\n",
      "You can avoid this message in future by passing the argument `trust_remote_code=True`.\n",
      "Passing `trust_remote_code=True` will be mandatory to load this dataset from the next major release of `datasets`.\n",
      "  warnings.warn(\n"
     ]
    }
   ],
   "source": [
    "dataset_hf = load_dataset(\"iluvvatar/RuNNE\")"
   ]
  },
  {
   "cell_type": "markdown",
   "metadata": {},
   "source": [
    "## Create train dataset"
   ]
  },
  {
   "cell_type": "code",
   "execution_count": 144,
   "metadata": {},
   "outputs": [],
   "source": [
    "train_data = [entry for entry in dataset_codalab['train']]"
   ]
  },
  {
   "cell_type": "code",
   "execution_count": 145,
   "metadata": {},
   "outputs": [],
   "source": [
    "def compare_and_take(source_dataset, target_dataset=dataset_codalab['test']) -> list[dict]:\n",
    "    \"\"\"\n",
    "    Compares two datasets and returns a list of samples which is not lies in test_data\n",
    "    Parameters:\n",
    "        - source_dataset (list): A list that can contain samples from test dataset\n",
    "        - target_dataset (list): A test dataset\n",
    "    Returns:\n",
    "        - output (list): A list of dictionaries containing sentences and named entities that are not similar between the two datasets.\n",
    "    \"\"\"\n",
    "    output = []\n",
    "\n",
    "    for source in source_dataset:\n",
    "        flag = True\n",
    "        for target in target_dataset:\n",
    "            source_sentence = source['text']\n",
    "            target_sentence = target['senences']\n",
    "            if len(source_sentence) == len(target_sentence):\n",
    "                same_chars = sum([source_char == target_char for source_char, target_char in zip(source_sentence, target_sentence)])\n",
    "                \n",
    "                if same_chars / len(source_sentence) > 0.5:\n",
    "                    flag = False\n",
    "                    break\n",
    "        if flag:\n",
    "            ners = []\n",
    "            \n",
    "            for ner in  source['entities']:\n",
    "                start, end, cls = ner.split()\n",
    "                ners.append([int(start), int(end) - 1, cls])\n",
    "            output.append({'sentences': source_sentence, 'ners': ners})\n",
    "    return output"
   ]
  },
  {
   "cell_type": "code",
   "execution_count": 146,
   "metadata": {},
   "outputs": [],
   "source": [
    "train_data += compare_and_take(dataset_hf['test'])\n",
    "train_data += compare_and_take(dataset_hf['train'])"
   ]
  },
  {
   "cell_type": "markdown",
   "metadata": {},
   "source": [
    "## Fill the solution dictionary"
   ]
  },
  {
   "cell_type": "code",
   "execution_count": 151,
   "metadata": {},
   "outputs": [],
   "source": [
    "solution_dict = dict()"
   ]
  },
  {
   "cell_type": "code",
   "execution_count": 152,
   "metadata": {},
   "outputs": [],
   "source": [
    "for entry in train_data:\n",
    "    sentences = entry['sentences'].lower()\n",
    "    ners = entry['ners']\n",
    "\n",
    "    for ner in ners:\n",
    "        solution_dict[sentences[ner[0]: ner[1] + 1]] = ner[2]"
   ]
  },
  {
   "cell_type": "code",
   "execution_count": 153,
   "metadata": {},
   "outputs": [
    {
     "data": {
      "text/plain": [
       "21221"
      ]
     },
     "execution_count": 153,
     "metadata": {},
     "output_type": "execute_result"
    }
   ],
   "source": [
    "len(solution_dict)"
   ]
  },
  {
   "cell_type": "markdown",
   "metadata": {},
   "source": [
    "## Testing"
   ]
  },
  {
   "cell_type": "code",
   "execution_count": 182,
   "metadata": {},
   "outputs": [],
   "source": [
    "answer = []\n",
    "\n",
    "for entry in dataset_codalab[\"test\"]:\n",
    "    ners = []\n",
    "    prev_ind = 0\n",
    "    for entity in solution_dict.keys():\n",
    "        if entry[\"senences\"].lower().find(entity) != -1:\n",
    "            indexes = [index.start() for index in re.finditer(entity, entry[\"senences\"].lower())]  # finding all occurrences of the entity into sentence\n",
    "            for index in indexes:\n",
    "                ners.append([index, index + len(entity) - 1, solution_dict[entity]])\n",
    "    ners = sorted(ners, key=lambda x: x[0])\n",
    "    answer.append({\"ners\": ners, \"id\": entry[\"id\"]})"
   ]
  },
  {
   "cell_type": "code",
   "execution_count": 180,
   "metadata": {},
   "outputs": [],
   "source": [
    "with open('output_data/test.jsonl', 'w') as outfile:\n",
    "    for entry in answer:\n",
    "        json.dump(entry, outfile)\n",
    "        outfile.write('\\n')"
   ]
  },
  {
   "cell_type": "code",
   "execution_count": null,
   "metadata": {},
   "outputs": [],
   "source": []
  }
 ],
 "metadata": {
  "kernelspec": {
   "display_name": "bot_env",
   "language": "python",
   "name": "bot_env"
  },
  "language_info": {
   "codemirror_mode": {
    "name": "ipython",
    "version": 3
   },
   "file_extension": ".py",
   "mimetype": "text/x-python",
   "name": "python",
   "nbconvert_exporter": "python",
   "pygments_lexer": "ipython3",
   "version": "3.10.12"
  }
 },
 "nbformat": 4,
 "nbformat_minor": 2
}
